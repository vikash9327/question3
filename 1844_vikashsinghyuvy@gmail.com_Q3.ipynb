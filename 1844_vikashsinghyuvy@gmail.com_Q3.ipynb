{
 "cells": [
  {
   "cell_type": "code",
   "execution_count": 19,
   "id": "3137a297",
   "metadata": {},
   "outputs": [],
   "source": [
    "def health_premium(gender,dob,smoker):\n",
    "    if gender=='male':\n",
    "        if 1990 < dob <= 2000:\n",
    "            if smoker =='yes':\n",
    "                print('Your annual premium is=',35000)\n",
    "            else:\n",
    "                print(\"final discounted price is=\",35000-(35000*0.1))\n",
    "                \n",
    "        elif 1970 < dob <=1990:\n",
    "            if smoker=='yes':\n",
    "                print('Your annual premium is=',40000)\n",
    "            else:\n",
    "                print(\"final discounted price is =\",40000-(40000*0.05))\n",
    "    elif gender=='female':\n",
    "        if 1990 < dob <= 2000:\n",
    "            if smoker=='yes':\n",
    "                print('Your annual premium is=',30000)\n",
    "            else:\n",
    "                print(\"final discounted price is\",30000-(30000*0.1))\n",
    "        elif 1970 < dob <= 1990:\n",
    "            if smoker=='yes':\n",
    "                print('your annual premiumis =',35000)\n",
    "            else:\n",
    "                print(\"final discounted price is=\",35000-(35000*0.05))   \n",
    "\n",
    "            "
   ]
  },
  {
   "cell_type": "code",
   "execution_count": 20,
   "id": "2749a1b2",
   "metadata": {},
   "outputs": [
    {
     "name": "stdout",
     "output_type": "stream",
     "text": [
      "Your annual premium is= 35000\n"
     ]
    }
   ],
   "source": [
    "health_premium('male',1999,'yes')"
   ]
  },
  {
   "cell_type": "code",
   "execution_count": 21,
   "id": "763b050f",
   "metadata": {},
   "outputs": [
    {
     "name": "stdout",
     "output_type": "stream",
     "text": [
      "final discounted price is= 31500.0\n"
     ]
    }
   ],
   "source": [
    "health_premium('male',1999,'no')"
   ]
  },
  {
   "cell_type": "code",
   "execution_count": null,
   "id": "76645d32",
   "metadata": {},
   "outputs": [],
   "source": []
  }
 ],
 "metadata": {
  "kernelspec": {
   "display_name": "Python 3 (ipykernel)",
   "language": "python",
   "name": "python3"
  },
  "language_info": {
   "codemirror_mode": {
    "name": "ipython",
    "version": 3
   },
   "file_extension": ".py",
   "mimetype": "text/x-python",
   "name": "python",
   "nbconvert_exporter": "python",
   "pygments_lexer": "ipython3",
   "version": "3.9.7"
  }
 },
 "nbformat": 4,
 "nbformat_minor": 5
}
